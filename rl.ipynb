{
 "cells": [
  {
   "cell_type": "markdown",
   "metadata": {},
   "source": [
    "# Import Dependencies"
   ]
  },
  {
   "cell_type": "code",
   "execution_count": 1,
   "metadata": {},
   "outputs": [
    {
     "name": "stdout",
     "output_type": "stream",
     "text": [
      "Collecting stable-baselines3[extra]\n",
      "  Obtaining dependency information for stable-baselines3[extra] from https://files.pythonhosted.org/packages/81/ce/09ff2f03ba06b1355ca6b21554dbebbca5da4cb8ee6c1eb12e8151ab476b/stable_baselines3-2.5.0-py3-none-any.whl.metadata\n",
      "  Downloading stable_baselines3-2.5.0-py3-none-any.whl.metadata (4.8 kB)\n",
      "Collecting gymnasium<1.1.0,>=0.29.1 (from stable-baselines3[extra])\n",
      "  Obtaining dependency information for gymnasium<1.1.0,>=0.29.1 from https://files.pythonhosted.org/packages/de/85/f5039ce2df5f0789ff1240f08a59f3e8c92e4c5f99543b7aad7388532f7c/gymnasium-1.0.0-py3-none-any.whl.metadata\n",
      "  Downloading gymnasium-1.0.0-py3-none-any.whl.metadata (9.5 kB)\n",
      "Requirement already satisfied: numpy<3.0,>=1.20 in c:\\users\\anomi\\appdata\\local\\programs\\python\\python312\\lib\\site-packages (from stable-baselines3[extra]) (1.26.2)\n",
      "Requirement already satisfied: torch<3.0,>=2.3 in c:\\users\\anomi\\appdata\\local\\programs\\python\\python312\\lib\\site-packages (from stable-baselines3[extra]) (2.3.0)\n",
      "Collecting cloudpickle (from stable-baselines3[extra])\n",
      "  Obtaining dependency information for cloudpickle from https://files.pythonhosted.org/packages/7e/e8/64c37fadfc2816a7701fa8a6ed8d87327c7d54eacfbfb6edab14a2f2be75/cloudpickle-3.1.1-py3-none-any.whl.metadata\n",
      "  Downloading cloudpickle-3.1.1-py3-none-any.whl.metadata (7.1 kB)\n",
      "Requirement already satisfied: pandas in c:\\users\\anomi\\appdata\\local\\programs\\python\\python312\\lib\\site-packages (from stable-baselines3[extra]) (1.5.3)\n",
      "Requirement already satisfied: matplotlib in c:\\users\\anomi\\appdata\\local\\programs\\python\\python312\\lib\\site-packages (from stable-baselines3[extra]) (3.8.1)\n",
      "Requirement already satisfied: opencv-python in c:\\users\\anomi\\appdata\\local\\programs\\python\\python312\\lib\\site-packages (from stable-baselines3[extra]) (4.8.1.78)\n",
      "Requirement already satisfied: pygame in c:\\users\\anomi\\appdata\\local\\programs\\python\\python312\\lib\\site-packages (from stable-baselines3[extra]) (2.5.2)\n",
      "Requirement already satisfied: tensorboard>=2.9.1 in c:\\users\\anomi\\appdata\\local\\programs\\python\\python312\\lib\\site-packages (from stable-baselines3[extra]) (2.16.2)\n",
      "Requirement already satisfied: psutil in c:\\users\\anomi\\appdata\\roaming\\python\\python312\\site-packages (from stable-baselines3[extra]) (6.0.0)\n",
      "Requirement already satisfied: tqdm in c:\\users\\anomi\\appdata\\local\\programs\\python\\python312\\lib\\site-packages (from stable-baselines3[extra]) (4.67.1)\n",
      "Requirement already satisfied: rich in c:\\users\\anomi\\appdata\\local\\programs\\python\\python312\\lib\\site-packages (from stable-baselines3[extra]) (13.7.1)\n",
      "Collecting ale-py>=0.9.0 (from stable-baselines3[extra])\n",
      "  Obtaining dependency information for ale-py>=0.9.0 from https://files.pythonhosted.org/packages/16/ef/f71fcf7d202ad1546638f5535bd169e71cd143354efbdfe7ae22a767b5ca/ale_py-0.10.1-cp312-cp312-win_amd64.whl.metadata\n",
      "  Downloading ale_py-0.10.1-cp312-cp312-win_amd64.whl.metadata (7.8 kB)\n",
      "Requirement already satisfied: pillow in c:\\users\\anomi\\appdata\\local\\programs\\python\\python312\\lib\\site-packages (from stable-baselines3[extra]) (10.1.0)\n",
      "Requirement already satisfied: typing-extensions>=4.3.0 in c:\\users\\anomi\\appdata\\local\\programs\\python\\python312\\lib\\site-packages (from gymnasium<1.1.0,>=0.29.1->stable-baselines3[extra]) (4.12.2)\n",
      "Collecting farama-notifications>=0.0.1 (from gymnasium<1.1.0,>=0.29.1->stable-baselines3[extra])\n",
      "  Obtaining dependency information for farama-notifications>=0.0.1 from https://files.pythonhosted.org/packages/05/2c/ffc08c54c05cdce6fbed2aeebc46348dbe180c6d2c541c7af7ba0aa5f5f8/Farama_Notifications-0.0.4-py3-none-any.whl.metadata\n",
      "  Downloading Farama_Notifications-0.0.4-py3-none-any.whl.metadata (558 bytes)\n",
      "Requirement already satisfied: absl-py>=0.4 in c:\\users\\anomi\\appdata\\local\\programs\\python\\python312\\lib\\site-packages (from tensorboard>=2.9.1->stable-baselines3[extra]) (2.1.0)\n",
      "Requirement already satisfied: grpcio>=1.48.2 in c:\\users\\anomi\\appdata\\local\\programs\\python\\python312\\lib\\site-packages (from tensorboard>=2.9.1->stable-baselines3[extra]) (1.64.1)\n",
      "Requirement already satisfied: markdown>=2.6.8 in c:\\users\\anomi\\appdata\\local\\programs\\python\\python312\\lib\\site-packages (from tensorboard>=2.9.1->stable-baselines3[extra]) (3.6)\n",
      "Requirement already satisfied: protobuf!=4.24.0,>=3.19.6 in c:\\users\\anomi\\appdata\\local\\programs\\python\\python312\\lib\\site-packages (from tensorboard>=2.9.1->stable-baselines3[extra]) (4.25.3)\n",
      "Requirement already satisfied: setuptools>=41.0.0 in c:\\users\\anomi\\appdata\\local\\programs\\python\\python312\\lib\\site-packages (from tensorboard>=2.9.1->stable-baselines3[extra]) (70.1.1)\n",
      "Requirement already satisfied: six>1.9 in c:\\users\\anomi\\appdata\\local\\programs\\python\\python312\\lib\\site-packages (from tensorboard>=2.9.1->stable-baselines3[extra]) (1.16.0)\n",
      "Requirement already satisfied: tensorboard-data-server<0.8.0,>=0.7.0 in c:\\users\\anomi\\appdata\\local\\programs\\python\\python312\\lib\\site-packages (from tensorboard>=2.9.1->stable-baselines3[extra]) (0.7.2)\n",
      "Requirement already satisfied: werkzeug>=1.0.1 in c:\\users\\anomi\\appdata\\local\\programs\\python\\python312\\lib\\site-packages (from tensorboard>=2.9.1->stable-baselines3[extra]) (3.0.1)\n",
      "Requirement already satisfied: filelock in c:\\users\\anomi\\appdata\\local\\programs\\python\\python312\\lib\\site-packages (from torch<3.0,>=2.3->stable-baselines3[extra]) (3.14.0)\n",
      "Requirement already satisfied: sympy in c:\\users\\anomi\\appdata\\local\\programs\\python\\python312\\lib\\site-packages (from torch<3.0,>=2.3->stable-baselines3[extra]) (1.12)\n",
      "Requirement already satisfied: networkx in c:\\users\\anomi\\appdata\\local\\programs\\python\\python312\\lib\\site-packages (from torch<3.0,>=2.3->stable-baselines3[extra]) (3.3)\n",
      "Requirement already satisfied: jinja2 in c:\\users\\anomi\\appdata\\local\\programs\\python\\python312\\lib\\site-packages (from torch<3.0,>=2.3->stable-baselines3[extra]) (3.1.2)\n",
      "Requirement already satisfied: fsspec in c:\\users\\anomi\\appdata\\local\\programs\\python\\python312\\lib\\site-packages (from torch<3.0,>=2.3->stable-baselines3[extra]) (2024.3.1)\n",
      "Requirement already satisfied: mkl<=2021.4.0,>=2021.1.1 in c:\\users\\anomi\\appdata\\local\\programs\\python\\python312\\lib\\site-packages (from torch<3.0,>=2.3->stable-baselines3[extra]) (2021.4.0)\n",
      "Requirement already satisfied: contourpy>=1.0.1 in c:\\users\\anomi\\appdata\\local\\programs\\python\\python312\\lib\\site-packages (from matplotlib->stable-baselines3[extra]) (1.2.0)\n",
      "Requirement already satisfied: cycler>=0.10 in c:\\users\\anomi\\appdata\\local\\programs\\python\\python312\\lib\\site-packages (from matplotlib->stable-baselines3[extra]) (0.12.1)\n",
      "Requirement already satisfied: fonttools>=4.22.0 in c:\\users\\anomi\\appdata\\local\\programs\\python\\python312\\lib\\site-packages (from matplotlib->stable-baselines3[extra]) (4.44.3)\n",
      "Requirement already satisfied: kiwisolver>=1.3.1 in c:\\users\\anomi\\appdata\\local\\programs\\python\\python312\\lib\\site-packages (from matplotlib->stable-baselines3[extra]) (1.4.5)\n",
      "Requirement already satisfied: packaging>=20.0 in c:\\users\\anomi\\appdata\\local\\programs\\python\\python312\\lib\\site-packages (from matplotlib->stable-baselines3[extra]) (23.2)\n",
      "Requirement already satisfied: pyparsing>=2.3.1 in c:\\users\\anomi\\appdata\\local\\programs\\python\\python312\\lib\\site-packages (from matplotlib->stable-baselines3[extra]) (3.1.1)\n",
      "Requirement already satisfied: python-dateutil>=2.7 in c:\\users\\anomi\\appdata\\local\\programs\\python\\python312\\lib\\site-packages (from matplotlib->stable-baselines3[extra]) (2.8.2)\n",
      "Requirement already satisfied: pytz>=2020.1 in c:\\users\\anomi\\appdata\\local\\programs\\python\\python312\\lib\\site-packages (from pandas->stable-baselines3[extra]) (2023.3.post1)\n",
      "Requirement already satisfied: markdown-it-py>=2.2.0 in c:\\users\\anomi\\appdata\\local\\programs\\python\\python312\\lib\\site-packages (from rich->stable-baselines3[extra]) (3.0.0)\n",
      "Requirement already satisfied: pygments<3.0.0,>=2.13.0 in c:\\users\\anomi\\appdata\\local\\programs\\python\\python312\\lib\\site-packages (from rich->stable-baselines3[extra]) (2.16.1)\n",
      "Requirement already satisfied: colorama in c:\\users\\anomi\\appdata\\local\\programs\\python\\python312\\lib\\site-packages (from tqdm->stable-baselines3[extra]) (0.4.6)\n",
      "Requirement already satisfied: mdurl~=0.1 in c:\\users\\anomi\\appdata\\local\\programs\\python\\python312\\lib\\site-packages (from markdown-it-py>=2.2.0->rich->stable-baselines3[extra]) (0.1.2)\n",
      "Requirement already satisfied: intel-openmp==2021.* in c:\\users\\anomi\\appdata\\local\\programs\\python\\python312\\lib\\site-packages (from mkl<=2021.4.0,>=2021.1.1->torch<3.0,>=2.3->stable-baselines3[extra]) (2021.4.0)\n",
      "Requirement already satisfied: tbb==2021.* in c:\\users\\anomi\\appdata\\local\\programs\\python\\python312\\lib\\site-packages (from mkl<=2021.4.0,>=2021.1.1->torch<3.0,>=2.3->stable-baselines3[extra]) (2021.12.0)\n",
      "Requirement already satisfied: MarkupSafe>=2.1.1 in c:\\users\\anomi\\appdata\\local\\programs\\python\\python312\\lib\\site-packages (from werkzeug>=1.0.1->tensorboard>=2.9.1->stable-baselines3[extra]) (2.1.3)\n",
      "Requirement already satisfied: mpmath>=0.19 in c:\\users\\anomi\\appdata\\local\\programs\\python\\python312\\lib\\site-packages (from sympy->torch<3.0,>=2.3->stable-baselines3[extra]) (1.3.0)\n",
      "Downloading ale_py-0.10.1-cp312-cp312-win_amd64.whl (1.4 MB)\n",
      "   ---------------------------------------- 0.0/1.4 MB ? eta -:--:--\n",
      "    --------------------------------------- 0.0/1.4 MB ? eta -:--:--\n",
      "   -- ------------------------------------- 0.1/1.4 MB 991.0 kB/s eta 0:00:02\n",
      "   -- ------------------------------------- 0.1/1.4 MB 737.3 kB/s eta 0:00:02\n",
      "   --- ------------------------------------ 0.1/1.4 MB 787.7 kB/s eta 0:00:02\n",
      "   ---- ----------------------------------- 0.2/1.4 MB 657.6 kB/s eta 0:00:02\n",
      "   ----- ---------------------------------- 0.2/1.4 MB 696.3 kB/s eta 0:00:02\n",
      "   ----- ---------------------------------- 0.2/1.4 MB 696.3 kB/s eta 0:00:02\n",
      "   ------ --------------------------------- 0.2/1.4 MB 656.8 kB/s eta 0:00:02\n",
      "   ------ --------------------------------- 0.2/1.4 MB 656.8 kB/s eta 0:00:02\n",
      "   ------ --------------------------------- 0.2/1.4 MB 656.8 kB/s eta 0:00:02\n",
      "   ------ --------------------------------- 0.2/1.4 MB 656.8 kB/s eta 0:00:02\n",
      "   ------ --------------------------------- 0.2/1.4 MB 656.8 kB/s eta 0:00:02\n",
      "   ------ --------------------------------- 0.2/1.4 MB 656.8 kB/s eta 0:00:02\n",
      "   ------ --------------------------------- 0.2/1.4 MB 656.8 kB/s eta 0:00:02\n",
      "   ------ --------------------------------- 0.2/1.4 MB 656.8 kB/s eta 0:00:02\n",
      "   -------- ------------------------------- 0.3/1.4 MB 399.3 kB/s eta 0:00:03\n",
      "   -------- ------------------------------- 0.3/1.4 MB 399.3 kB/s eta 0:00:03\n",
      "   --------- ------------------------------ 0.3/1.4 MB 385.9 kB/s eta 0:00:03\n",
      "   --------- ------------------------------ 0.3/1.4 MB 376.6 kB/s eta 0:00:03\n",
      "   ---------- ----------------------------- 0.4/1.4 MB 384.3 kB/s eta 0:00:03\n",
      "   ---------- ----------------------------- 0.4/1.4 MB 393.4 kB/s eta 0:00:03\n",
      "   ------------ --------------------------- 0.4/1.4 MB 419.8 kB/s eta 0:00:03\n",
      "   ------------- -------------------------- 0.5/1.4 MB 430.7 kB/s eta 0:00:03\n",
      "   ------------- -------------------------- 0.5/1.4 MB 443.5 kB/s eta 0:00:03\n",
      "   -------------- ------------------------- 0.5/1.4 MB 446.0 kB/s eta 0:00:02\n",
      "   --------------- ------------------------ 0.5/1.4 MB 454.7 kB/s eta 0:00:02\n",
      "   ---------------- ----------------------- 0.6/1.4 MB 454.0 kB/s eta 0:00:02\n",
      "   ----------------- ---------------------- 0.6/1.4 MB 461.4 kB/s eta 0:00:02\n",
      "   ------------------ --------------------- 0.7/1.4 MB 485.8 kB/s eta 0:00:02\n",
      "   ------------------ --------------------- 0.7/1.4 MB 485.8 kB/s eta 0:00:02\n",
      "   -------------------- ------------------- 0.7/1.4 MB 490.0 kB/s eta 0:00:02\n",
      "   --------------------- ------------------ 0.7/1.4 MB 498.8 kB/s eta 0:00:02\n",
      "   --------------------- ------------------ 0.8/1.4 MB 493.4 kB/s eta 0:00:02\n",
      "   ---------------------- ----------------- 0.8/1.4 MB 503.4 kB/s eta 0:00:02\n",
      "   ----------------------- ---------------- 0.8/1.4 MB 507.8 kB/s eta 0:00:02\n",
      "   ------------------------ --------------- 0.8/1.4 MB 505.8 kB/s eta 0:00:02\n",
      "   ------------------------- -------------- 0.9/1.4 MB 514.8 kB/s eta 0:00:01\n",
      "   ------------------------- -------------- 0.9/1.4 MB 507.9 kB/s eta 0:00:01\n",
      "   -------------------------- ------------- 0.9/1.4 MB 511.7 kB/s eta 0:00:01\n",
      "   --------------------------- ------------ 1.0/1.4 MB 519.9 kB/s eta 0:00:01\n",
      "   --------------------------- ------------ 1.0/1.4 MB 519.9 kB/s eta 0:00:01\n",
      "   ---------------------------- ----------- 1.0/1.4 MB 506.4 kB/s eta 0:00:01\n",
      "   ----------------------------- ---------- 1.0/1.4 MB 509.9 kB/s eta 0:00:01\n",
      "   ----------------------------- ---------- 1.0/1.4 MB 516.1 kB/s eta 0:00:01\n",
      "   ----------------------------- ---------- 1.0/1.4 MB 516.1 kB/s eta 0:00:01\n",
      "   ------------------------------ --------- 1.1/1.4 MB 496.3 kB/s eta 0:00:01\n",
      "   ------------------------------- -------- 1.1/1.4 MB 498.7 kB/s eta 0:00:01\n",
      "   ------------------------------- -------- 1.1/1.4 MB 492.7 kB/s eta 0:00:01\n",
      "   -------------------------------- ------- 1.1/1.4 MB 491.5 kB/s eta 0:00:01\n",
      "   -------------------------------- ------- 1.1/1.4 MB 497.3 kB/s eta 0:00:01\n",
      "   --------------------------------- ------ 1.2/1.4 MB 493.9 kB/s eta 0:00:01\n",
      "   --------------------------------- ------ 1.2/1.4 MB 493.9 kB/s eta 0:00:01\n",
      "   --------------------------------- ------ 1.2/1.4 MB 493.9 kB/s eta 0:00:01\n",
      "   ---------------------------------- ----- 1.2/1.4 MB 475.9 kB/s eta 0:00:01\n",
      "   ---------------------------------- ----- 1.2/1.4 MB 475.1 kB/s eta 0:00:01\n",
      "   ----------------------------------- ---- 1.2/1.4 MB 472.7 kB/s eta 0:00:01\n",
      "   ------------------------------------ --- 1.2/1.4 MB 472.0 kB/s eta 0:00:01\n",
      "   ------------------------------------ --- 1.2/1.4 MB 472.0 kB/s eta 0:00:01\n",
      "   ------------------------------------ --- 1.3/1.4 MB 469.8 kB/s eta 0:00:01\n",
      "   ------------------------------------ --- 1.3/1.4 MB 469.8 kB/s eta 0:00:01\n",
      "   ------------------------------------- -- 1.3/1.4 MB 461.5 kB/s eta 0:00:01\n",
      "   ------------------------------------- -- 1.3/1.4 MB 461.5 kB/s eta 0:00:01\n",
      "   ------------------------------------- -- 1.3/1.4 MB 461.5 kB/s eta 0:00:01\n",
      "   ------------------------------------- -- 1.3/1.4 MB 445.2 kB/s eta 0:00:01\n",
      "   -------------------------------------- - 1.3/1.4 MB 442.7 kB/s eta 0:00:01\n",
      "   -------------------------------------- - 1.3/1.4 MB 442.7 kB/s eta 0:00:01\n",
      "   -------------------------------------- - 1.3/1.4 MB 442.7 kB/s eta 0:00:01\n",
      "   ---------------------------------------  1.4/1.4 MB 430.5 kB/s eta 0:00:01\n",
      "   ---------------------------------------  1.4/1.4 MB 430.5 kB/s eta 0:00:01\n",
      "   ---------------------------------------- 1.4/1.4 MB 429.1 kB/s eta 0:00:00\n",
      "Downloading gymnasium-1.0.0-py3-none-any.whl (958 kB)\n",
      "   ---------------------------------------- 0.0/958.1 kB ? eta -:--:--\n",
      "   ---------------------------------------- 0.0/958.1 kB ? eta -:--:--\n",
      "   ---------------------------------------- 0.0/958.1 kB ? eta -:--:--\n",
      "    --------------------------------------- 20.5/958.1 kB ? eta -:--:--\n",
      "   - ------------------------------------- 41.0/958.1 kB 653.6 kB/s eta 0:00:02\n",
      "   - ------------------------------------- 41.0/958.1 kB 653.6 kB/s eta 0:00:02\n",
      "   -- ------------------------------------ 51.2/958.1 kB 262.6 kB/s eta 0:00:04\n",
      "   -- ------------------------------------ 71.7/958.1 kB 357.2 kB/s eta 0:00:03\n",
      "   -- ------------------------------------ 71.7/958.1 kB 357.2 kB/s eta 0:00:03\n",
      "   -- ------------------------------------ 71.7/958.1 kB 357.2 kB/s eta 0:00:03\n",
      "   -- ------------------------------------ 71.7/958.1 kB 357.2 kB/s eta 0:00:03\n",
      "   -- ------------------------------------ 71.7/958.1 kB 357.2 kB/s eta 0:00:03\n",
      "   ---- --------------------------------- 102.4/958.1 kB 227.0 kB/s eta 0:00:04\n",
      "   ---- --------------------------------- 102.4/958.1 kB 227.0 kB/s eta 0:00:04\n",
      "   ---- --------------------------------- 122.9/958.1 kB 218.7 kB/s eta 0:00:04\n",
      "   ---- --------------------------------- 122.9/958.1 kB 218.7 kB/s eta 0:00:04\n",
      "   ----- -------------------------------- 133.1/958.1 kB 212.6 kB/s eta 0:00:04\n",
      "   ------ ------------------------------- 153.6/958.1 kB 218.5 kB/s eta 0:00:04\n",
      "   ------ ------------------------------- 163.8/958.1 kB 218.5 kB/s eta 0:00:04\n",
      "   ------ ------------------------------- 163.8/958.1 kB 218.5 kB/s eta 0:00:04\n",
      "   ------- ------------------------------ 184.3/958.1 kB 227.6 kB/s eta 0:00:04\n",
      "   -------- ----------------------------- 204.8/958.1 kB 230.5 kB/s eta 0:00:04\n",
      "   -------- ----------------------------- 215.0/958.1 kB 234.1 kB/s eta 0:00:04\n",
      "   -------- ----------------------------- 215.0/958.1 kB 234.1 kB/s eta 0:00:04\n",
      "   --------- ---------------------------- 235.5/958.1 kB 232.5 kB/s eta 0:00:04\n",
      "   --------- ---------------------------- 245.8/958.1 kB 232.0 kB/s eta 0:00:04\n",
      "   --------- ---------------------------- 245.8/958.1 kB 232.0 kB/s eta 0:00:04\n",
      "   ---------- --------------------------- 266.2/958.1 kB 237.5 kB/s eta 0:00:03\n",
      "   ----------- -------------------------- 286.7/958.1 kB 242.5 kB/s eta 0:00:03\n",
      "   ----------- -------------------------- 286.7/958.1 kB 242.5 kB/s eta 0:00:03\n",
      "   ----------- -------------------------- 297.0/958.1 kB 235.2 kB/s eta 0:00:03\n",
      "   ------------ ------------------------- 317.4/958.1 kB 239.8 kB/s eta 0:00:03\n",
      "   ------------ ------------------------- 317.4/958.1 kB 239.8 kB/s eta 0:00:03\n",
      "   ------------ ------------------------- 327.7/958.1 kB 233.6 kB/s eta 0:00:03\n",
      "   ------------- ------------------------ 348.2/958.1 kB 235.2 kB/s eta 0:00:03\n",
      "   ------------- ------------------------ 348.2/958.1 kB 235.2 kB/s eta 0:00:03\n",
      "   -------------- ----------------------- 368.6/958.1 kB 236.6 kB/s eta 0:00:03\n",
      "   --------------- ---------------------- 378.9/958.1 kB 238.3 kB/s eta 0:00:03\n",
      "   --------------- ---------------------- 399.4/958.1 kB 241.8 kB/s eta 0:00:03\n",
      "   --------------- ---------------------- 399.4/958.1 kB 241.8 kB/s eta 0:00:03\n",
      "   ---------------- --------------------- 409.6/958.1 kB 234.5 kB/s eta 0:00:03\n",
      "   ----------------- -------------------- 430.1/958.1 kB 242.1 kB/s eta 0:00:03\n",
      "   ----------------- -------------------- 450.6/958.1 kB 243.0 kB/s eta 0:00:03\n",
      "   ------------------ ------------------- 460.8/958.1 kB 242.4 kB/s eta 0:00:03\n",
      "   ------------------- ------------------ 481.3/958.1 kB 247.1 kB/s eta 0:00:02\n",
      "   ------------------- ------------------ 481.3/958.1 kB 247.1 kB/s eta 0:00:02\n",
      "   ------------------- ------------------ 491.5/958.1 kB 242.6 kB/s eta 0:00:02\n",
      "   -------------------- ----------------- 512.0/958.1 kB 245.1 kB/s eta 0:00:02\n",
      "   --------------------- ---------------- 532.5/958.1 kB 249.4 kB/s eta 0:00:02\n",
      "   --------------------- ---------------- 542.7/958.1 kB 250.6 kB/s eta 0:00:02\n",
      "   ---------------------- --------------- 563.2/958.1 kB 254.6 kB/s eta 0:00:02\n",
      "   ---------------------- --------------- 573.4/958.1 kB 253.8 kB/s eta 0:00:02\n",
      "   ----------------------- -------------- 593.9/958.1 kB 255.9 kB/s eta 0:00:02\n",
      "   ------------------------ ------------- 614.4/958.1 kB 263.0 kB/s eta 0:00:02\n",
      "   ------------------------ ------------- 624.6/958.1 kB 260.4 kB/s eta 0:00:02\n",
      "   ------------------------- ------------ 655.4/958.1 kB 264.7 kB/s eta 0:00:02\n",
      "   -------------------------- ----------- 675.8/958.1 kB 268.0 kB/s eta 0:00:02\n",
      "   --------------------------- ---------- 696.3/958.1 kB 274.4 kB/s eta 0:00:01\n",
      "   ---------------------------- --------- 706.6/958.1 kB 273.4 kB/s eta 0:00:01\n",
      "   ---------------------------- --------- 727.0/958.1 kB 274.7 kB/s eta 0:00:01\n",
      "   ----------------------------- -------- 737.3/958.1 kB 273.7 kB/s eta 0:00:01\n",
      "   ------------------------------ ------- 757.8/958.1 kB 279.8 kB/s eta 0:00:01\n",
      "   ------------------------------ ------- 778.2/958.1 kB 280.9 kB/s eta 0:00:01\n",
      "   -------------------------------- ----- 809.0/958.1 kB 285.6 kB/s eta 0:00:01\n",
      "   -------------------------------- ----- 819.2/958.1 kB 284.4 kB/s eta 0:00:01\n",
      "   --------------------------------- ---- 839.7/958.1 kB 287.0 kB/s eta 0:00:01\n",
      "   ---------------------------------- --- 860.2/958.1 kB 292.5 kB/s eta 0:00:01\n",
      "   ---------------------------------- --- 870.4/958.1 kB 291.3 kB/s eta 0:00:01\n",
      "   ----------------------------------- -- 890.9/958.1 kB 292.1 kB/s eta 0:00:01\n",
      "   ----------------------------------- -- 901.1/958.1 kB 292.4 kB/s eta 0:00:01\n",
      "   ------------------------------------ - 921.6/958.1 kB 293.1 kB/s eta 0:00:01\n",
      "   -------------------------------------  942.1/958.1 kB 296.8 kB/s eta 0:00:01\n",
      "   -------------------------------------- 958.1/958.1 kB 295.9 kB/s eta 0:00:00\n",
      "Downloading cloudpickle-3.1.1-py3-none-any.whl (20 kB)\n",
      "Downloading stable_baselines3-2.5.0-py3-none-any.whl (183 kB)\n",
      "   ---------------------------------------- 0.0/183.9 kB ? eta -:--:--\n",
      "   -- ------------------------------------- 10.2/183.9 kB ? eta -:--:--\n",
      "   ------ -------------------------------- 30.7/183.9 kB 660.6 kB/s eta 0:00:01\n",
      "   -------- ------------------------------ 41.0/183.9 kB 393.8 kB/s eta 0:00:01\n",
      "   ------------- ------------------------- 61.4/183.9 kB 409.6 kB/s eta 0:00:01\n",
      "   ----------------- --------------------- 81.9/183.9 kB 416.7 kB/s eta 0:00:01\n",
      "   ----------------- --------------------- 81.9/183.9 kB 416.7 kB/s eta 0:00:01\n",
      "   ----------------- --------------------- 81.9/183.9 kB 416.7 kB/s eta 0:00:01\n",
      "   ----------------- --------------------- 81.9/183.9 kB 416.7 kB/s eta 0:00:01\n",
      "   ------------------------- ------------ 122.9/183.9 kB 313.8 kB/s eta 0:00:01\n",
      "   ------------------------- ------------ 122.9/183.9 kB 313.8 kB/s eta 0:00:01\n",
      "   ----------------------------- -------- 143.4/183.9 kB 283.8 kB/s eta 0:00:01\n",
      "   --------------------------------- ---- 163.8/183.9 kB 307.2 kB/s eta 0:00:01\n",
      "   -------------------------------------- 183.9/183.9 kB 300.5 kB/s eta 0:00:00\n",
      "Downloading Farama_Notifications-0.0.4-py3-none-any.whl (2.5 kB)\n",
      "Installing collected packages: farama-notifications, cloudpickle, ale-py, gymnasium, stable-baselines3\n",
      "Successfully installed ale-py-0.10.1 cloudpickle-3.1.1 farama-notifications-0.0.4 gymnasium-1.0.0 stable-baselines3-2.5.0\n"
     ]
    },
    {
     "name": "stderr",
     "output_type": "stream",
     "text": [
      "\n",
      "[notice] A new release of pip is available: 23.2.1 -> 25.0.1\n",
      "[notice] To update, run: python.exe -m pip install --upgrade pip\n"
     ]
    }
   ],
   "source": [
    "!pip install stable-baselines3[extra]"
   ]
  },
  {
   "cell_type": "code",
   "execution_count": 17,
   "metadata": {},
   "outputs": [],
   "source": [
    "import os\n",
    "import matplotlib.pyplot as plt\n",
    "import gym \n",
    "from stable_baselines3 import PPO\n",
    "from stable_baselines3.common.vec_env import DummyVecEnv\n",
    "from stable_baselines3.common.evaluation import evaluate_policy\n"
   ]
  },
  {
   "cell_type": "markdown",
   "metadata": {},
   "source": [
    "# Environment Startup"
   ]
  },
  {
   "cell_type": "code",
   "execution_count": 14,
   "metadata": {},
   "outputs": [
    {
     "name": "stderr",
     "output_type": "stream",
     "text": [
      "c:\\Users\\anomi\\AppData\\Local\\Programs\\Python\\Python312\\Lib\\site-packages\\gym\\envs\\registration.py:555: UserWarning: \u001b[33mWARN: The environment CartPole-v0 is out of date. You should consider upgrading to version `v1`.\u001b[0m\n",
      "  logger.warn(\n"
     ]
    }
   ],
   "source": [
    "environment_name = 'CartPole-v0'\n",
    "env = gym.make(environment_name,render_mode='rgb_array')"
   ]
  },
  {
   "cell_type": "code",
   "execution_count": 20,
   "metadata": {},
   "outputs": [
    {
     "name": "stdout",
     "output_type": "stream",
     "text": [
      "Episode: 1 Score: 14.0\n",
      "Episode: 2 Score: 22.0\n",
      "Episode: 3 Score: 14.0\n",
      "Episode: 4 Score: 17.0\n",
      "Episode: 5 Score: 12.0\n"
     ]
    },
    {
     "data": {
      "image/png": "[encoded data removed]",
      "text/plain": [
       "<Figure size 640x480 with 1 Axes>"
      ]
     },
     "metadata": {},
     "output_type": "display_data"
    }
   ],
   "source": [
    "episodes = 5\n",
    "for episode in range(1, episodes+1):\n",
    "    state = env.reset()\n",
    "    done = False\n",
    "    score = 0\n",
    "    \n",
    "    while not done:\n",
    "        plt.imshow(env.render())\n",
    "        action = env.action_space.sample()\n",
    "        reward, done=env.step(action)[1:3]\n",
    "        \n",
    "        score += reward\n",
    "    print(f'Episode: {episode} Score: {score}')\n",
    "env.close()"
   ]
  },
  {
   "cell_type": "markdown",
   "metadata": {},
   "source": [
    "# Training RL"
   ]
  },
  {
   "cell_type": "code",
   "execution_count": null,
   "metadata": {},
   "outputs": [
    {
     "data": {
      "text/plain": [
       "0"
      ]
     },
     "execution_count": 23,
     "metadata": {},
     "output_type": "execute_result"
    }
   ],
   "source": []
  }
 ],
 "metadata": {
  "kernelspec": {
   "display_name": "Python 3",
   "language": "python",
   "name": "python3"
  },
  "language_info": {
   "codemirror_mode": {
    "name": "ipython",
    "version": 3
   },
   "file_extension": ".py",
   "mimetype": "text/x-python",
   "name": "python",
   "nbconvert_exporter": "python",
   "pygments_lexer": "ipython3",
   "version": "3.12.0"
  }
 },
 "nbformat": 4,
 "nbformat_minor": 2
}
